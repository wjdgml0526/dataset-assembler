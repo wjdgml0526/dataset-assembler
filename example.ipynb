{
 "cells": [
  {
   "cell_type": "code",
   "execution_count": 1,
   "metadata": {},
   "outputs": [],
   "source": [
    "import json\n",
    "from save_json_dataset import save_dataset"
   ]
  },
  {
   "cell_type": "code",
   "execution_count": 2,
   "metadata": {},
   "outputs": [],
   "source": [
    "'''\n",
    "This function processes a single data file in JSON format to extract and format information.\n",
    "The function should need to be adjusted to fit the requirements of your project.\n",
    "'''\n",
    "\n",
    "def json_to_prompt(file_path):\n",
    "    try:\n",
    "        with open(file_path, 'r') as f:\n",
    "            data = json.load(f)\n",
    "        \n",
    "        dialogue = ''\n",
    "        for utterance in data.get('utterances', ''):\n",
    "            speaker = f\"Speaker {utterance['speaker']}:\"\n",
    "            text = utterance['text']\n",
    "            dialogue += f'{speaker} {text}'\n",
    "            dialogue += '\\n'\n",
    "        \n",
    "        urgency_level = data.get('urgencyLevel', '')\n",
    "        disaster_large = data.get('disasterLarge', '')\n",
    "        disaster_medium = data.get('disasterMedium', '')\n",
    "        symptoms = data.get('symptom', [])\n",
    "        triage = data.get('triage', '')\n",
    "\n",
    "        row = {\n",
    "            'prompt':f\"\"\"\\\n",
    "Task: Please label the following 119 emergency call conversation with urgency level, disease large classification, disease medium classification, symptoms, and triage.\n",
    "\n",
    "Dialogue:\n",
    "{dialogue}\n",
    "\n",
    "Output:\n",
    "Urgency Level: {urgency_level}\n",
    "Disaster Large: {disaster_large}\n",
    "Disaster Medium: {disaster_medium}\n",
    "Symptoms: {symptoms}\n",
    "Triage: {triage}\n",
    "\"\"\",\n",
    "            'urgencyLevel': urgency_level,\n",
    "            'disasterLarge': disaster_large,\n",
    "            'disasterMedium': disaster_medium,\n",
    "            'symptoms': symptoms,\n",
    "            'triage': triage\n",
    "        }\n",
    "\n",
    "        return row\n",
    "\n",
    "    except Exception as e:\n",
    "        print(f'Error processing file {file_path}: {e}')\n",
    "        return None"
   ]
  },
  {
   "cell_type": "code",
   "execution_count": 3,
   "metadata": {},
   "outputs": [],
   "source": [
    "'''\n",
    "It is designed to handle the entire set of files assigned to a single process in the multiprocessing setup.\n",
    "'''\n",
    "\n",
    "def merge_sample(file_paths):\n",
    "    data = [json_to_prompt(file_path) for file_path in file_paths]\n",
    "    return data"
   ]
  },
  {
   "cell_type": "code",
   "execution_count": 4,
   "metadata": {},
   "outputs": [],
   "source": [
    "dir_path = '/hdd/data/088.위급상황_음성-음향_고도화_119_지능형_신고접수_음성_인식_데이터/3.개방데이터/1.데이터/Training/2.라벨링데이터'\n",
    "save_dataset(\n",
    "    base_dir = dir_path,\n",
    "    file_extension = '.json',\n",
    "    processes = 12,\n",
    "    save_path = 'prompts.json',\n",
    "    process_function = merge_sample\n",
    ")"
   ]
  }
 ],
 "metadata": {
  "kernelspec": {
   "display_name": ".emerg_classifi",
   "language": "python",
   "name": "python3"
  },
  "language_info": {
   "codemirror_mode": {
    "name": "ipython",
    "version": 3
   },
   "file_extension": ".py",
   "mimetype": "text/x-python",
   "name": "python",
   "nbconvert_exporter": "python",
   "pygments_lexer": "ipython3",
   "version": "3.10.12"
  }
 },
 "nbformat": 4,
 "nbformat_minor": 2
}
